{
 "cells": [
  {
   "cell_type": "markdown",
   "metadata": {},
   "source": [
    "## Chapter 3 [Imaging](Ch3-Imaging.ipynb)\n",
    "\n",
    "<hr style=\"height:1px;border-top:4px solid #FF8200\" />\n",
    "\n",
    "# Image Formation in the SEM\n",
    "\n",
    "part of \n",
    "\n",
    "## [Analysis of Scanning Electron Microscope Data](_Analysis_of_Scanning_Electron_Microscope_Data.ipynb)\n",
    "\n",
    "\n",
    "\n",
    "by Gerd Duscher, 2019\n",
    "\n",
    "Microscopy Facilities<br>\n",
    "Joint Institute of Advanced Materials<br>\n",
    "The University of Tennessee, Knoxville\n",
    "\n",
    "Model based analysis and quantification of data acquired with scanning electron microscopes\n",
    " \n",
    "\n"
   ]
  },
  {
   "cell_type": "markdown",
   "metadata": {},
   "source": [
    "## First we import all relvant libraries"
   ]
  },
  {
   "cell_type": "code",
   "execution_count": 1,
   "metadata": {},
   "outputs": [
    {
     "name": "stdout",
     "output_type": "stream",
     "text": [
      "Populating the interactive namespace from numpy and matplotlib\n"
     ]
    }
   ],
   "source": [
    "# import matplotlib and numpy\n",
    "#                       use \"inline\" instead of \"notebook\" for non-interactive plots\n",
    "%pylab --no-import-all notebook\n",
    "\n",
    "# Multidimensional Image library\n",
    "import scipy.ndimage as ndimage\n",
    "\n",
    "%gui qt"
   ]
  },
  {
   "cell_type": "markdown",
   "metadata": {},
   "source": [
    "## The Probe Diameter\n",
    "\n",
    "The shape of the electron beam at the sample plane is the (badly) demagnetized electron source.\n",
    "\n",
    "\n",
    "A very important feature of SEM operation is that the electron-probe\n",
    "current $I_P$, the probe aperture $\\alpha_P$ and the geometric probe diameter $d_0$ cannot be changed independently. \n",
    "\n",
    "The electron current, the probe forming aperture (angle $\\alpha_P$) and the final probe diameter are in first order connected by the brightness $\\beta$ of the source.\n",
    "\n",
    "$$ d_0 = \\left( \\frac{4I_P}{\\pi^2 \\beta}\\right)^{1/2} \\alpha_P^{-1} = C_0 \\alpha_P^{-1} $$\n",
    "\n",
    "This geometric probe diameter do is broadened by the action of the lens\n",
    "aberrations of the objective lens.\n",
    "\n",
    "The effective probe diameter is then given by:\n",
    " $$d^2_P = d^2_0 +d^2_d + d^2_s + d^2_c$$\n",
    " \n",
    " broading by:\n",
    " - $d_0$:  source \n",
    " - $d_d$: diffraction limit \n",
    " - $d_s$: sphercial aberration\n",
    " - $d_c$: chromatic aberration\n",
    " \n",
    " $$d^2_P = \\left[ C^2_0 + (0.6 \\lambda)^2\\right] \\alpha^{-2}_P + \\frac{1}{4} C^2_s\\alpha_s^6 +  \\left( C_c \\frac{\\Delta E}{E}\\right)^2 \\alpha^2_P $$\n",
    " \n",
    " \n",
    " For a thermionic source $C_0$ is mauch larger than the wavelength and dominates the first term, while a Schottky emitter is dominated by the wavelength. \n",
    " \n",
    " For normal acceleration voltages $C_S$domionates the second half of the equation, while chromatic aberrations are dominant for acceleration voltages around 1 keV.\n",
    " \n",
    " "
   ]
  },
  {
   "cell_type": "markdown",
   "metadata": {},
   "source": [
    "![X-Ray_Auger](./images_SEM/beam_size.jpg)"
   ]
  },
  {
   "cell_type": "markdown",
   "metadata": {},
   "source": [
    "Smaller diaphragms can be used to increase the depth of focus\n",
    "and larger ones to increase the probe current but, in both cases, the probe diamter increases.\n",
    "\n",
    "\n",
    "In practice, it is more important to know the dependence of probe diameter on the focal length $f$ or the working distance $w$, which can be continuously varied, and for a discrete set of final apertures. The spherical and chromatic aberration coefficients are basically independent of $w$ while the first term increases with $w^2$.\n",
    "\n"
   ]
  },
  {
   "cell_type": "markdown",
   "metadata": {},
   "source": [
    "## Back:[Resolution Limit](Ch3-Resolution.ipynb)\n",
    "## Next: [Image Processing](Ch3-ImageProcessing_SEM.ipynb)\n",
    "## List of Content: [Front](_Analysis_of_Scanning_Electron_Microscope_Data.ipynb#Content)"
   ]
  },
  {
   "cell_type": "code",
   "execution_count": null,
   "metadata": {},
   "outputs": [],
   "source": []
  }
 ],
 "metadata": {
  "kernelspec": {
   "display_name": "Python 3",
   "language": "python",
   "name": "python3"
  },
  "language_info": {
   "codemirror_mode": {
    "name": "ipython",
    "version": 3
   },
   "file_extension": ".py",
   "mimetype": "text/x-python",
   "name": "python",
   "nbconvert_exporter": "python",
   "pygments_lexer": "ipython3",
   "version": "3.7.3"
  }
 },
 "nbformat": 4,
 "nbformat_minor": 1
}
